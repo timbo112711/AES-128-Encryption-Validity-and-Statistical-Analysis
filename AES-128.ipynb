{
 "cells": [
  {
   "cell_type": "markdown",
   "metadata": {},
   "source": [
    "## The AES-128 Algorithm "
   ]
  },
  {
   "cell_type": "code",
   "execution_count": 1,
   "metadata": {
    "collapsed": true
   },
   "outputs": [],
   "source": [
    "# Load AES \n",
    "from Crypto.Cipher import AES"
   ]
  },
  {
   "cell_type": "code",
   "execution_count": null,
   "metadata": {
    "collapsed": false
   },
   "outputs": [],
   "source": [
    "# Create an object for the AES that holds the key and IV\n",
    "test1 = AES.new('This is the key123', AES.MODE_CBC, 'This is an IV456')\n",
    "\n",
    "# Create a message\n",
    "message = \"The answer is no\"\n",
    "\n",
    "# Encrypt the message above \n",
    "ciphertext = obj.encrypt(message)\n",
    "ciphertext"
   ]
  },
  {
   "cell_type": "code",
   "execution_count": null,
   "metadata": {
    "collapsed": true
   },
   "outputs": [],
   "source": [
    "# Decrpyt the ciphertext \n",
    "obj2 = AES.new('This is a key123', AES.MODE_CBC, 'This is an IV456')\n",
    "obj2.decrypt(ciphertext)"
   ]
  }
 ],
 "metadata": {
  "kernelspec": {
   "display_name": "Python 2",
   "language": "python",
   "name": "python2"
  },
  "language_info": {
   "codemirror_mode": {
    "name": "ipython",
    "version": 2
   },
   "file_extension": ".py",
   "mimetype": "text/x-python",
   "name": "python",
   "nbconvert_exporter": "python",
   "pygments_lexer": "ipython2",
   "version": "2.7.13"
  }
 },
 "nbformat": 4,
 "nbformat_minor": 2
}
