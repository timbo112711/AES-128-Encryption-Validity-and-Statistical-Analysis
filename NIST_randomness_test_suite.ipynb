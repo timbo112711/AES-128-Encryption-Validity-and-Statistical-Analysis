{
 "cells": [
  {
   "cell_type": "code",
   "execution_count": 1,
   "metadata": {
    "collapsed": true
   },
   "outputs": [],
   "source": [
    "#import the necessary packages and functions\n",
    "import os\n",
    "from Crypto.Cipher import AES\n",
    "from Crypto import Random\n",
    "import random as rand\n",
    "import subprocess\n",
    "import matplotlib.pyplot as plt\n",
    "import time\n",
    "%matplotlib inline"
   ]
  },
  {
   "cell_type": "code",
   "execution_count": 2,
   "metadata": {
    "collapsed": true
   },
   "outputs": [],
   "source": [
    "#creating dictionary containing english letter frequencies\n",
    "pos = {'a':8167, 'b':1492, 'c':2782, 'd':4253, 'e':12702, 'f':2228, 'g':2015, 'h':6094, 'i':6966,\n",
    "       'j':153, 'k':772, 'l':4025, 'm':2406, 'n':6749, 'o':7507, 'p':1929, 'q':95, 'r':5987,\n",
    "       's':6327, 't':9056, 'u':2758, 'v':978, 'w':2360, 'x':150, 'y':1974, 'z':74}"
   ]
  },
  {
   "cell_type": "code",
   "execution_count": 3,
   "metadata": {
    "collapsed": false
   },
   "outputs": [
    {
     "name": "stdout",
     "output_type": "stream",
     "text": [
      "plaintext:\n",
      " vebesrscaendcsos\n",
      "\n",
      "plaintext_hex:\n",
      " a5858285a299a2838185958483a296a2 \n",
      "length:\n",
      " 32\n",
      "\n",
      "plaintext_bit:\n",
      " 10100101100001011000001010000101101000101001100110100010100000111000000110000101100101011000010010000011101000101001011010100010 \n",
      "length:\n",
      " 128\n"
     ]
    }
   ],
   "source": [
    "#initialize plaintext\n",
    "plaintext = \"\"\n",
    "\n",
    "#run loop to sample 16 letters and append them to plaintext\n",
    "for i in range(16):\n",
    "    plaintext += rand.choice([x for x in pos for y in range(pos[x])])\n",
    "\n",
    "print(\"plaintext:\\n\", plaintext)\n",
    "\n",
    "#convert plaintext to hexadecimal then bit string\n",
    "plaintext_hex = plaintext.encode('cp037').hex()\n",
    "plaintext_bit = bin(int(plaintext_hex, 16))[2:]\n",
    "\n",
    "print(\"\\nplaintext_hex:\\n\", plaintext_hex,\"\\nlength:\\n\",len(plaintext_hex))\n",
    "print(\"\\nplaintext_bit:\\n\", plaintext_bit,\"\\nlength:\\n\",len(plaintext_bit))"
   ]
  },
  {
   "cell_type": "code",
   "execution_count": 4,
   "metadata": {
    "collapsed": false
   },
   "outputs": [
    {
     "name": "stdout",
     "output_type": "stream",
     "text": [
      "key:\n",
      " b'\\x8b\\xf1\\xf1\\xd5h\\xcej^\\x0e8\\xf7a\\x936\\x84\\xcd'\n",
      "\n",
      "key_hex:\n",
      " 8bf1f1d568ce6a5e0e38f761933684cd \n",
      "length:\n",
      " 32\n",
      "\n",
      "key_bit:\n",
      " 10001011111100011111000111010101011010001100111001101010010111100000111000111000111101110110000110010011001101101000010011001101 \n",
      "length:\n",
      " 128\n"
     ]
    }
   ],
   "source": [
    "#generate random key using os.urandom() PRNG\n",
    "key = os.urandom(16)\n",
    "\n",
    "print(\"key:\\n\", key)\n",
    "\n",
    "#convert key to hexadecimal then bit string\n",
    "key_hex = key.hex()\n",
    "key_bit = bin(int(key_hex, 16))[2:]\n",
    "\n",
    "print(\"\\nkey_hex:\\n\", key_hex,\"\\nlength:\\n\",len(key_hex))\n",
    "print(\"\\nkey_bit:\\n\", key_bit,\"\\nlength:\\n\",len(key_bit))"
   ]
  },
  {
   "cell_type": "code",
   "execution_count": 5,
   "metadata": {
    "collapsed": false
   },
   "outputs": [
    {
     "name": "stdout",
     "output_type": "stream",
     "text": [
      "ciphertext:\n",
      " b'\\xe1L\\xc2}@\\xb5\\x83p\\xe4\\xb2\\xabd\\x95\\xbcO\\x96'\n",
      "\n",
      "key_hex:\n",
      " e14cc27d40b58370e4b2ab6495bc4f96 \n",
      "length:\n",
      " 32\n",
      "\n",
      "key_bit:\n",
      " 11100001010011001100001001111101010000001011010110000011011100001110010010110010101010110110010010010101101111000100111110010110 \n",
      "length:\n",
      " 128\n"
     ]
    }
   ],
   "source": [
    "#generate AES cipher object with 128-bit key\n",
    "cipher = AES.new(key)\n",
    "\n",
    "#encrypt plaintext with AES cipher object\n",
    "ciphertext = cipher.encrypt(plaintext)\n",
    "\n",
    "print(\"ciphertext:\\n\", ciphertext)\n",
    "\n",
    "#convert key to hexadecimal then bit string\n",
    "ciphertext_hex = ciphertext.hex()\n",
    "ciphertext_bit = bin(int(ciphertext_hex, 16))[2:]\n",
    "\n",
    "print(\"\\nkey_hex:\\n\", ciphertext_hex,\"\\nlength:\\n\",len(ciphertext_hex))\n",
    "print(\"\\nkey_bit:\\n\", ciphertext_bit,\"\\nlength:\\n\",len(ciphertext_bit))"
   ]
  },
  {
   "cell_type": "code",
   "execution_count": 6,
   "metadata": {
    "collapsed": true
   },
   "outputs": [],
   "source": [
    "#!/usr/bin/env python\n",
    "\n",
    "import numpy as np\n",
    "import scipy.special as spc\n",
    "import scipy.fftpack as sff\n",
    "import scipy.stats as sst\n",
    "import functools\n",
    "\n",
    "def sumi(x): return 2 * x - 1\n",
    "def su(x, y): return x + y\n",
    "def sus(x): return (x - 0.5) ** 2\n",
    "def sq(x): return int(x) ** 2\n",
    "def logo(x): return x * np.log(x)\n",
    "\n",
    "def pr(u, x):\n",
    "    if u == 0:\n",
    "        out=1.0 * np.exp(-x)\n",
    "    else:\n",
    "        out=1.0 * x * np.exp(2*-x) * (2**-u) * spc.hyp1f1(u + 1, 2, x)\n",
    "    return out\n",
    "\n",
    "def stringpart(binin, num):\n",
    "    blocks = [binin[xs * num:num + xs * num:] for xs in range(int(len(binin) / num))]\n",
    "    return blocks\n",
    "\n",
    "def randgen(num):\n",
    "    '''Spits out a stream of random numbers like '1001001' with the length num'''\n",
    "\n",
    "    rn = open('/dev/urandom', 'r')\n",
    "    random_chars = rn.read(num / 2)\n",
    "    stream = ''\n",
    "    for char in random_chars:\n",
    "        c = ord(char)\n",
    "        for i in range(0, 2):\n",
    "            stream += str(c >> i & 1)\n",
    "    return stream"
   ]
  },
  {
   "cell_type": "markdown",
   "metadata": {},
   "source": [
    "<h3>Randomness Test #1: Frequency (Monobit) Test</h3>\n",
    "Input: bit string"
   ]
  },
  {
   "cell_type": "code",
   "execution_count": 7,
   "metadata": {
    "collapsed": true
   },
   "outputs": [],
   "source": [
    "def monobitfrequencytest(binin):\n",
    "    ''' The focus of the test is the proportion of zeroes and ones for the entire sequence. The purpose of this \n",
    "    test is to determine whether that number of ones and zeros in a sequence are approximately the same as would \n",
    "    be expected for a truly random sequence. The test assesses the closeness of the fraction of ones to 1/2, that \n",
    "    is, the number of ones and zeroes in a sequence should be about the same.'''\n",
    "    ss = [int(el) for el in binin]\n",
    "    sc = list(map(sumi, ss))\n",
    "    sn = functools.reduce(su, sc)\n",
    "    sobs = np.abs(sn) / np.sqrt(len(binin))\n",
    "    pval = spc.erfc(sobs / np.sqrt(2))\n",
    "    return pval"
   ]
  },
  {
   "cell_type": "code",
   "execution_count": 8,
   "metadata": {
    "collapsed": false,
    "scrolled": true
   },
   "outputs": [
    {
     "data": {
      "text/plain": [
       "0.7236736098317631"
      ]
     },
     "execution_count": 8,
     "metadata": {},
     "output_type": "execute_result"
    }
   ],
   "source": [
    "monobitfrequencytest(ciphertext_bit)"
   ]
  },
  {
   "cell_type": "markdown",
   "metadata": {},
   "source": [
    "<h3>Randomness Test #2: Frequency Test within a Block</h3>\n",
    "Input: bit string, block length"
   ]
  },
  {
   "cell_type": "code",
   "execution_count": 9,
   "metadata": {
    "collapsed": true
   },
   "outputs": [],
   "source": [
    "def blockfrequencytest(binin, nu=128):\n",
    "    ''' The focus of the test is the proportion of zeroes and ones within M-bit blocks. The purpose of this test \n",
    "    is to determine whether the frequency of ones is an M-bit block is approximately M/2.'''\n",
    "    ss = [int(el) for el in binin]\n",
    "    tt = [1.0 * sum(ss[xs * nu:nu + xs * nu:]) / nu for xs in range(int(len(ss) / nu))]\n",
    "    uu = list(map(sus, tt))\n",
    "    chisqr = 4 * nu * functools.reduce(su, uu)\n",
    "    pval = spc.gammaincc(len(tt) / 2.0, chisqr / 2.0)\n",
    "    return pval"
   ]
  },
  {
   "cell_type": "code",
   "execution_count": 10,
   "metadata": {
    "collapsed": false,
    "scrolled": true
   },
   "outputs": [
    {
     "data": {
      "text/plain": [
       "0.72367360983176288"
      ]
     },
     "execution_count": 10,
     "metadata": {},
     "output_type": "execute_result"
    }
   ],
   "source": [
    "blockfrequencytest(ciphertext_bit, nu=128)"
   ]
  },
  {
   "cell_type": "markdown",
   "metadata": {},
   "source": [
    "<h3>Randomness Test #3: Runs Test</h3>\n",
    "Input: bit string"
   ]
  },
  {
   "cell_type": "code",
   "execution_count": 11,
   "metadata": {
    "collapsed": true
   },
   "outputs": [],
   "source": [
    "def runstest(binin):\n",
    "    ''' The focus of this test is the total number of zero and one runs in the entire sequence, where a run is an \n",
    "    uninterrupted sequence of identical bits. A run of length k means that a run consists of exactly k identical \n",
    "    bits and is bounded before and after with a bit of the opposite value. The purpose of the runs test is to \n",
    "    determine whether the number of runs of ones and zeros of various lengths is as expected for a random sequence. \n",
    "    In particular, this test determines whether the oscillation between such substrings is too fast or too slow.''' \n",
    "    ss = [int(el) for el in binin]\n",
    "    n = len(binin)\n",
    "    pi = 1.0 * functools.reduce(su, ss) / n\n",
    "    vobs = len(binin.replace('0', ' ').split()) + len(binin.replace('1' , ' ').split())\n",
    "    pval = spc.erfc(abs(vobs-2*n*pi*(1-pi)) / (2 * pi * (1 - pi) * np.sqrt(2*n)))\n",
    "    return pval"
   ]
  },
  {
   "cell_type": "code",
   "execution_count": 12,
   "metadata": {
    "collapsed": false
   },
   "outputs": [
    {
     "data": {
      "text/plain": [
       "0.28338045965109182"
      ]
     },
     "execution_count": 12,
     "metadata": {},
     "output_type": "execute_result"
    }
   ],
   "source": [
    "runstest(ciphertext_bit)"
   ]
  },
  {
   "cell_type": "markdown",
   "metadata": {},
   "source": [
    "<h3>Randomness Test #4: Test for Longest Run of Ones in a Block</h3>\n",
    "Input: bit string  \n",
    "NOTE: 3 different functions depending on bit string length"
   ]
  },
  {
   "cell_type": "code",
   "execution_count": 13,
   "metadata": {
    "collapsed": true
   },
   "outputs": [],
   "source": [
    "def longestrunones8(binin):\n",
    "    ''' The focus of the test is the longest run of ones within M-bit blocks. The purpose of this test is to \n",
    "    determine whether the length of the longest run of ones within the tested sequence is consistent with the \n",
    "    length of the longest run of ones that would be expected in a random sequence. Note that an irregularity in \n",
    "    the expected length of the longest run of ones implies that there is also an irregularity in the expected \n",
    "    length of the longest run of zeroes. Long runs of zeroes were not evaluated separately due to a concern about \n",
    "    statistical independence among the tests.'''\n",
    "    if len(binin) > 127:\n",
    "        m = 8\n",
    "        k = 3\n",
    "        pik = [0.2148, 0.3672, 0.2305, 0.1875]\n",
    "        blocks = [binin[xs*m:m+xs*m:] for xs in range(int(len(binin) / m))]\n",
    "        n = len(blocks)\n",
    "        counts1 = [xs+'01' for xs in blocks] # append the string 01 to guarantee the length of 1\n",
    "        counts = [xs.replace('0',' ').split() for xs in counts1] # split into all parts\n",
    "        counts2 = [list(map(len, xx)) for xx in counts]\n",
    "        counts4 = [(4 if xx > 4 else xx) for xx in list(map(max,counts2))]\n",
    "        freqs = [counts4.count(spi) for spi in [1, 2, 3, 4]]\n",
    "        chisqr1 = [(freqs[xx]-n*pik[xx])**2/(n*pik[xx]) for xx in range(4)]\n",
    "        chisqr = functools.reduce(su, chisqr1)\n",
    "        pval = spc.gammaincc(k / 2.0, chisqr / 2.0)\n",
    "    else:\n",
    "        print('longestrunones8 failed, too few bits:', len(binin))\n",
    "        pval = 0\n",
    "    return pval\n",
    "\n",
    "def longestrunones128(binin):  # not well tested yet\n",
    "    if len(binin) > 6271:\n",
    "        m = 128\n",
    "        k = 5\n",
    "        n = len(binin)\n",
    "        pik = [ 0.1174, 0.2430, 0.2493, 0.1752, 0.1027, 0.1124 ]\n",
    "        blocks = [binin[xs * m:m + xs * m:] for xs in range(int(len(binin) / m))]\n",
    "        n = len(blocks)\n",
    "        counts = [xs.replace('0', ' ').split() for xs in blocks]\n",
    "        counts2 = [list(map(len, xx)) for xx in counts]\n",
    "        counts3 = [(4 if xx < 5 else xx) for xx in list(map(max, counts2))]\n",
    "        counts4 = [(9 if xx > 9 else xx) for xx in counts3]\n",
    "        freqs = [counts4.count(spi) for spi in [4, 5, 6, 7, 8, 9]]\n",
    "        chisqr1 = [(freqs[xx] - n * pik[xx]) ** 2 / (n * pik[xx]) for xx in range(len(freqs))]\n",
    "        chisqr = functools.reduce(su, chisqr1)\n",
    "        pval = spc.gammaincc(k / 2.0, chisqr / 2.0)\n",
    "    else:\n",
    "        print('longestrunones128 failed, too few bits:', len(binin))\n",
    "        pval = 0\n",
    "    return pval\n",
    "\n",
    "def longestrunones10000(binin):  # not well tested yet\n",
    "    ''' The focus of the test is the longest run of ones within M-bit blocks. The purpose of this test is to \n",
    "    determine whether the length of the longest run of ones within the tested sequence is consistent with the \n",
    "    length of the longest run of ones that would be expected in a random sequence. Note that an irregularity in \n",
    "    the expected length of the longest run of ones implies that there is also an irregularity in the expected \n",
    "    length of the longest run of zeroes. Long runs of zeroes were not evaluated separately due to a concern about \n",
    "    statistical independence among the tests.'''\n",
    "    if len(binin) > 749999:\n",
    "        m = 10000\n",
    "        k = 6\n",
    "        pik = [0.0882, 0.2092, 0.2483, 0.1933, 0.1208, 0.0675, 0.0727]\n",
    "        blocks = [binin[xs * m:m + xs * m:] for xs in range(int(len(binin) / m))]\n",
    "        n = len(blocks)\n",
    "        counts = [xs.replace('0', ' ').split() for xs in blocks]\n",
    "        counts2 = [list(map(len, xx)) for xx in counts]\n",
    "        counts3 = [(10 if xx < 11 else xx) for xx in list(map(max, counts2))]\n",
    "        counts4 = [(16 if xx > 16 else xx) for xx in counts3]\n",
    "        freqs = [counts4.count(spi) for spi in [10,11,12,13,14,15,16]]\n",
    "        chisqr1 = [(freqs[xx] - n * pik[xx]) ** 2 / (n * pik[xx]) for xx in range(len(freqs))]\n",
    "        chisqr = functools.reduce(su, chisqr1)\n",
    "        pval = spc.gammaincc(k / 2.0, chisqr / 2.0)\n",
    "    else:\n",
    "        print('longestrunones10000 failed, too few bits:', len(binin))\n",
    "        pval = 0\n",
    "    return pval"
   ]
  },
  {
   "cell_type": "code",
   "execution_count": 14,
   "metadata": {
    "collapsed": false
   },
   "outputs": [
    {
     "data": {
      "text/plain": [
       "0.682855154252068"
      ]
     },
     "execution_count": 14,
     "metadata": {},
     "output_type": "execute_result"
    }
   ],
   "source": [
    "longestrunones8(ciphertext_bit)"
   ]
  },
  {
   "cell_type": "code",
   "execution_count": 15,
   "metadata": {
    "collapsed": false
   },
   "outputs": [
    {
     "data": {
      "text/plain": [
       "3.6490259082223474e-31"
      ]
     },
     "execution_count": 15,
     "metadata": {},
     "output_type": "execute_result"
    }
   ],
   "source": [
    "longestrunones128(ciphertext_bit*49)"
   ]
  },
  {
   "cell_type": "code",
   "execution_count": 16,
   "metadata": {
    "collapsed": false
   },
   "outputs": [
    {
     "data": {
      "text/plain": [
       "3.2746412530841405e-164"
      ]
     },
     "execution_count": 16,
     "metadata": {},
     "output_type": "execute_result"
    }
   ],
   "source": [
    "longestrunones10000(ciphertext_bit*5860)"
   ]
  },
  {
   "cell_type": "markdown",
   "metadata": {},
   "source": [
    "<h3>Randomness Test #5: Binary Matrix Rank Test</h3>\n",
    "Input: bit string, number of rows in each matrix (m), number of columns in each matrix (q)"
   ]
  },
  {
   "cell_type": "code",
   "execution_count": 17,
   "metadata": {
    "collapsed": true
   },
   "outputs": [],
   "source": [
    "def mrank(matrix): # matrix rank as defined in the NIST specification\n",
    "    m=len(matrix)\n",
    "    leni=len(matrix[0])\n",
    "    def proc(mat):\n",
    "        for i in range(m):\n",
    "            if mat[i][i]==0:\n",
    "                for j in range(i+1,m):\n",
    "                    if mat[j][i]==1:\n",
    "                        mat[j],mat[i]=mat[i],mat[j]\n",
    "                        break\n",
    "            if mat[i][i]==1:\n",
    "                for j in range(i+1,m):\n",
    "                    if mat[j][i]==1: mat[j]=[mat[i][x]^mat[j][x] for x in range(leni)]\n",
    "        return mat\n",
    "    maa=proc(matrix)\n",
    "    maa.reverse()\n",
    "    mu=[i[::-1] for i in maa]\n",
    "    muu=proc(mu)\n",
    "    ra=np.sum(np.sign([xx.sum() for xx in np.array(mu)]))\n",
    "    return ra\n",
    "\n",
    "def binarymatrixranktest(binin,m=32,q=32):\n",
    "    ''' The focus of the test is the rank of disjoint sub-matrices of the entire sequence. The purpose of this test is to check for linear dependence among fixed length substrings of the original sequence.'''\n",
    "    p1 = 1.0\n",
    "    for x in range(1,50): p1*=1-(1.0/(2**x))\n",
    "    p2 = 2*p1\n",
    "    p3 = 1-p1-p2;\n",
    "    n=len(binin)\n",
    "    u=[int(el) for el in binin] # the input string as numbers, to generate the dot product \n",
    "    f1a = [u[xs*m:xs*m+m:] for xs in range(int(n/m))]\n",
    "    n=len(f1a)\n",
    "    f2a = [f1a[xs*q:xs*q+q:] for xs in range(int(n/q))]\n",
    "    r=list(map(mrank,f2a))\n",
    "    n=len(r)\n",
    "    fm=r.count(m);\n",
    "    fm1=r.count(m-1);\n",
    "    chisqr=((fm-p1*n)**2)/(p1*n)+((fm1-p2*n)**2)/(p2*n)+((n-fm-fm1-p3*n)**2)/(p3*n);\n",
    "    pval=np.exp(-0.5*chisqr)\n",
    "    return pval"
   ]
  },
  {
   "cell_type": "code",
   "execution_count": 18,
   "metadata": {
    "collapsed": false,
    "scrolled": false
   },
   "outputs": [
    {
     "data": {
      "text/plain": [
       "0.039104615860550376"
      ]
     },
     "execution_count": 18,
     "metadata": {},
     "output_type": "execute_result"
    }
   ],
   "source": [
    "binarymatrixranktest((ciphertext_bit*2),m=16,q=16)"
   ]
  },
  {
   "cell_type": "markdown",
   "metadata": {},
   "source": [
    "<h3>Randomness Test #6: Spectral Test</h3>\n",
    "Input: bit string"
   ]
  },
  {
   "cell_type": "code",
   "execution_count": 19,
   "metadata": {
    "collapsed": true
   },
   "outputs": [],
   "source": [
    "def spectraltest(binin):\n",
    "    '''The focus of this test is the peak heights in the discrete Fast Fourier Transform. The purpose of this test \n",
    "    is to detect periodic features (i.e., repetitive patterns that are near each other) in the tested sequence that \n",
    "    would indicate a deviation from the assumption of randomness. '''\n",
    "    n = len(binin)\n",
    "    ss = [int(el) for el in binin]\n",
    "    sc = list(map(sumi, ss))\n",
    "    ft = sff.fft(sc)\n",
    "    af = abs(ft)[1:int(n/2+1):]\n",
    "    t = np.sqrt(np.log(1/0.05)*n)\n",
    "    n0 = 0.95*n/2\n",
    "    n1 = len(np.where(af<t)[0])\n",
    "    d = (n1 - n0)/np.sqrt(n*0.95*0.05/4)\n",
    "    pval = spc.erfc(abs(d)/np.sqrt(2))\n",
    "    return pval"
   ]
  },
  {
   "cell_type": "code",
   "execution_count": 20,
   "metadata": {
    "collapsed": false
   },
   "outputs": [
    {
     "data": {
      "text/plain": [
       "0.33039004884879331"
      ]
     },
     "execution_count": 20,
     "metadata": {},
     "output_type": "execute_result"
    }
   ],
   "source": [
    "spectraltest(ciphertext_bit)"
   ]
  },
  {
   "cell_type": "markdown",
   "metadata": {},
   "source": [
    "<h3>Randomness Test #7: Non-overlapping Template Matching Test</h3>\n",
    "Input: bit string, m-bit template to be matched(mat), number of independent blocks(num)"
   ]
  },
  {
   "cell_type": "code",
   "execution_count": 21,
   "metadata": {
    "collapsed": true
   },
   "outputs": [],
   "source": [
    "def nonoverlappingtemplatematchingtest(binin, mat=\"000000001\", num=8):\n",
    "    ''' The focus of this test is the number of occurrences of pre-defined target substrings. The purpose of this \n",
    "    test is to reject sequences that exhibit too many occurrences of a given non-periodic (aperiodic) pattern. For \n",
    "    this test and for the Overlapping Template Matching test, an m-bit window is used to search for a specific \n",
    "    m-bit pattern. If the pattern is not found, the window slides one bit position. For this test, when the pattern \n",
    "    is found, the window is reset to the bit after the found pattern, and the search resumes.'''\n",
    "    n = len(binin)\n",
    "    m = len(mat)\n",
    "    M = int(n/num)\n",
    "    blocks = [binin[xs*M:M+xs*M:] for xs in range(int(n/M))]\n",
    "    counts = [xx.count(mat) for xx in blocks]\n",
    "    avg = 1.0 * (M-m+1)/2 ** m\n",
    "    var = M*(2**-m -(2*m-1)*2**(-2*m))\n",
    "    chisqr = functools.reduce(su, [(xs - avg) ** 2 for xs in counts]) / var\n",
    "    pval = spc.gammaincc(1.0 * len(blocks) / 2, chisqr / 2)\n",
    "    return pval"
   ]
  },
  {
   "cell_type": "code",
   "execution_count": 22,
   "metadata": {
    "collapsed": false
   },
   "outputs": [
    {
     "data": {
      "text/plain": [
       "0.99999995567755462"
      ]
     },
     "execution_count": 22,
     "metadata": {},
     "output_type": "execute_result"
    }
   ],
   "source": [
    "nonoverlappingtemplatematchingtest(ciphertext_bit, mat=\"000000001\", num=8)"
   ]
  },
  {
   "cell_type": "markdown",
   "metadata": {},
   "source": [
    "<h3>Randomness Test #8: Overlapping Template Matching Test</h3>\n",
    "Input: bit string, m-bit template to be matched(mat), number of independent blocks(num), degrees of freedom(numi)"
   ]
  },
  {
   "cell_type": "code",
   "execution_count": 23,
   "metadata": {
    "collapsed": true
   },
   "outputs": [],
   "source": [
    "def occurances(string, sub):\n",
    "    count=start=0\n",
    "    while True:\n",
    "        start=string.find(sub,start)+1\n",
    "        if start>0:\n",
    "            count+=1\n",
    "        else:\n",
    "            return count\n",
    "\n",
    "def overlappingtemplatematchingtest(binin,mat=\"111111111\",num=1032,numi=5):\n",
    "    ''' The focus of this test is the number of pre-defined target substrings. The purpose of this test is to \n",
    "    reject sequences that show deviations from the expected number of runs of ones of a given length. Note that \n",
    "    when there is a deviation from the expected number of ones of a given length, there is also a deviation in the \n",
    "    runs of zeroes. Runs of zeroes were not evaluated separately due to a concern about statistical independence \n",
    "    among the tests. For this test and for the Non-overlapping Template Matching test, an m-bit window is used to \n",
    "    search for a specific m-bit pattern. If the pattern is not found, the window slides one bit position. For this \n",
    "    test, when the pattern is found, the window again slides one bit, and the search is resumed.'''\n",
    "    n = len(binin)\n",
    "    bign = int(n / num)\n",
    "    m = len(mat)\n",
    "    lamda = 1.0 * (num - m + 1) / 2 ** m\n",
    "    eta = 0.5 * lamda\n",
    "    pi = [pr(i, eta) for i in range(numi)]\n",
    "    pi.append(1 - functools.reduce(su, pi))\n",
    "    v = [0 for x in range(numi + 1)]\n",
    "    blocks = stringpart(binin, num)\n",
    "    blocklen = len(blocks[0])\n",
    "    counts = [occurances(i,mat) for i in blocks]\n",
    "    counts2 = [(numi if xx > numi else xx) for xx in counts]\n",
    "    for i in counts2: v[i] = v[i] + 1\n",
    "    chisqr = functools.reduce(su, [(v[i]-bign*pi[i])** 2 / (bign*pi[i]) for i in range(numi + 1)])\n",
    "    pval = spc.gammaincc(0.5*numi, 0.5*chisqr)\n",
    "    return pval"
   ]
  },
  {
   "cell_type": "code",
   "execution_count": 24,
   "metadata": {
    "collapsed": false,
    "scrolled": true
   },
   "outputs": [
    {
     "data": {
      "text/plain": [
       "0.63300733691853539"
      ]
     },
     "execution_count": 24,
     "metadata": {},
     "output_type": "execute_result"
    }
   ],
   "source": [
    "overlappingtemplatematchingtest(ciphertext_bit*20,mat=\"111111111\",num=1032,numi=5)"
   ]
  },
  {
   "cell_type": "markdown",
   "metadata": {},
   "source": [
    "<h3>Randomness Test #9: Maurer's \"Universal Statistical\" Test</h3>\n",
    "Input: bit string, length of each block(l), number of blocks in intialization sequence(q)"
   ]
  },
  {
   "cell_type": "code",
   "execution_count": 25,
   "metadata": {
    "collapsed": true
   },
   "outputs": [],
   "source": [
    "def maurersuniversalstatistictest(binin,l=2,q=40):\n",
    "    ''' The focus of this test is the number of bits between matching patterns. The purpose of the test is to \n",
    "    detect whether or not the sequence can be significantly compressed without loss of information. An overly \n",
    "    compressible sequence is considered to be non-random.'''\n",
    "    ru = [\n",
    "        [0.7326495, 0.690],\n",
    "        [1.5374383, 1.338],\n",
    "        [2.4016068, 1.901],\n",
    "        [3.3112247, 2.358],\n",
    "        [4.2534266, 2.705],\n",
    "        [5.2177052, 2.954],\n",
    "        [6.1962507, 3.125],\n",
    "        [7.1836656, 3.238],\n",
    "        [8.1764248, 3.311],\n",
    "        [9.1723243, 3.356],\n",
    "        [10.170032, 3.384],\n",
    "        [11.168765, 3.401],\n",
    "        [12.168070, 3.410],\n",
    "        [13.167693, 3.416],\n",
    "        [14.167488, 3.419],\n",
    "        [15.167379, 3.421],\n",
    "        ]\n",
    "    blocks = [int(li, 2) + 1 for li in stringpart(binin, l)]\n",
    "    k = len(blocks) - q\n",
    "    states = [0 for x in range(int(2**l))]\n",
    "    for x in range(q):\n",
    "        states[blocks[x]-1]=x+1\n",
    "    sumi=0.0\n",
    "    for x in range(q,len(blocks)):\n",
    "        sumi+=np.log2((x+1)-states[blocks[x]-1])\n",
    "        states[blocks[x]-1] = x+1\n",
    "    fn = sumi / k\n",
    "    c=0.7-(0.8/l)+(4+(32.0/l))*((k**(-3.0/l))/15)\n",
    "    sigma=c*np.sqrt((ru[l-1][1])/k)\n",
    "    pval = spc.erfc(abs(fn-ru[l-1][0]) / (np.sqrt(2)*sigma))\n",
    "    return pval"
   ]
  },
  {
   "cell_type": "code",
   "execution_count": 26,
   "metadata": {
    "collapsed": false
   },
   "outputs": [
    {
     "data": {
      "text/plain": [
       "0.00046160163083415874"
      ]
     },
     "execution_count": 26,
     "metadata": {},
     "output_type": "execute_result"
    }
   ],
   "source": [
    "maurersuniversalstatistictest(ciphertext_bit*10,l=2,q=40)"
   ]
  },
  {
   "cell_type": "markdown",
   "metadata": {},
   "source": [
    "<h3>Randomness Test #10: Linear Complexity Test</h3>\n",
    "Input: bit string, length of each block(m)"
   ]
  },
  {
   "cell_type": "code",
   "execution_count": 27,
   "metadata": {
    "collapsed": true
   },
   "outputs": [],
   "source": [
    "def lincomplex(binin):\n",
    "    lenn=len(binin)\n",
    "    c=b=np.zeros(lenn)\n",
    "    c[0]=b[0]=1\n",
    "    l=0\n",
    "    m=-1\n",
    "    n=0\n",
    "    u=[int(el) for el in binin] # the input string as numbers, to generate the dot product\n",
    "    p=99\n",
    "    while n<lenn:\n",
    "        v=u[(n-l):n] # was n-l..n-1\n",
    "        v.reverse()\n",
    "        cc=c[1:l+1] # was 2..l+1\n",
    "        d=(u[n]+np.dot(v,cc))%2\n",
    "        if d==1:\n",
    "            tmp=c\n",
    "            p=np.zeros(lenn)\n",
    "            for i in range(0,l): # was 1..l+1\n",
    "                 if b[i]==1: \n",
    "                     p[i+n-m]=1\n",
    "            c=(c+p)%2;\n",
    "            if l<=0.5*n: # was if 2l <= n\n",
    "                 l=n+1-l\n",
    "                 m=n\n",
    "                 b=tmp\n",
    "        n+=1\n",
    "    return l\n",
    "\n",
    "# test 2.10\n",
    "def linearcomplexitytest(binin,m=500):\n",
    "    ''' The focus of this test is the length of a generating feedback register. The purpose of this test is to \n",
    "    determine whether or not the sequence is complex enough to be considered random. Random sequences are \n",
    "    characterized by a longer feedback register. A short feedback register implies non-randomness.'''\n",
    "    k = 6\n",
    "    pi = [0.01047, 0.03125, 0.125, 0.5, 0.25, 0.0625, 0.020833]\n",
    "    avg = 0.5*m + (1.0/36)*(9 + (-1)**(m + 1)) - (m/3.0 + 2.0/9)/2**m\n",
    "    blocks = stringpart(binin, m)\n",
    "    bign = len(blocks)\n",
    "    lc = ([lincomplex(chunk) for chunk in blocks])\n",
    "    t = ([-1.0*(((-1)**m)*(chunk-avg)+2.0/9) for chunk in lc])\n",
    "    vg=np.histogram(t,bins=[-9999999999,-2.5,-1.5,-0.5,0.5,1.5,2.5,9999999999])[0][::-1]\n",
    "    im=([((vg[ii]-bign*pi[ii])**2)/(bign*pi[ii]) for ii in range(7)])\n",
    "    chisqr=functools.reduce(su,im)\n",
    "    pval=spc.gammaincc(k/2.0,chisqr/2.0)\n",
    "    return pval"
   ]
  },
  {
   "cell_type": "code",
   "execution_count": 28,
   "metadata": {
    "collapsed": false
   },
   "outputs": [
    {
     "data": {
      "text/plain": [
       "0.54377912801395967"
      ]
     },
     "execution_count": 28,
     "metadata": {},
     "output_type": "execute_result"
    }
   ],
   "source": [
    "linearcomplexitytest(ciphertext_bit*5,m=128)"
   ]
  },
  {
   "cell_type": "markdown",
   "metadata": {},
   "source": [
    "<h3>Randomness Test #11: Serial Test</h3>\n",
    "Input: bit string, length of each block(m)"
   ]
  },
  {
   "cell_type": "code",
   "execution_count": 29,
   "metadata": {
    "collapsed": true
   },
   "outputs": [],
   "source": [
    "def serialtest(binin, m=16):\n",
    "    ''' The focus of this test is the frequency of each and every overlapping m-bit pattern across the entire \n",
    "    sequence. The purpose of this test is to determine whether the number of occurrences of the 2m m-bit \n",
    "    overlapping patterns is approximately the same as would be expected for a random sequence. The pattern can \n",
    "    overlap.'''\n",
    "    n = len(binin)\n",
    "    hbin=binin+binin[0:m-1:]\n",
    "    f1a = [hbin[xs:m+xs:] for xs in range(n)]\n",
    "    oo=set(f1a)\n",
    "    f1 = [f1a.count(xs)**2 for xs in oo]\n",
    "    f1 = map(f1a.count,oo)\n",
    "    cou=f1a.count\n",
    "    f2a = [hbin[xs:m-1+xs:] for xs in range(n)]\n",
    "    f2 = [f2a.count(xs)**2 for xs in set(f2a)]\n",
    "    f3a = [hbin[xs:m-2+xs:] for xs in range(n)]\n",
    "    f3 = [f3a.count(xs)**2 for xs in set(f3a)]\n",
    "    psim1 = 0\n",
    "    psim2 = 0\n",
    "    psim3 = 0\n",
    "    if m >= 0:\n",
    "        suss = functools.reduce(su,f1)\n",
    "        psim1 = 1.0 * 2 ** m * suss / n - n\n",
    "    if m >= 1:\n",
    "        suss = functools.reduce(su,f2)\n",
    "        psim2 = 1.0 * 2 ** (m - 1) * suss / n - n\n",
    "    if m >= 2:\n",
    "        suss = functools.reduce(su,f3)\n",
    "        psim3 = 1.0 * 2 ** (m - 2) * suss / n - n\n",
    "    d1 = psim1-psim2\n",
    "    d2 = psim1-2 * psim2 + psim3\n",
    "    pval1 = spc.gammaincc(2 ** (m - 2), d1 / 2.0)\n",
    "    pval2 = spc.gammaincc(2 ** (m - 3), d2 / 2.0)\n",
    "    return [pval1, pval2]"
   ]
  },
  {
   "cell_type": "code",
   "execution_count": 30,
   "metadata": {
    "collapsed": false
   },
   "outputs": [
    {
     "data": {
      "text/plain": [
       "[0.49896108745922391, 0.49853075529672125]"
      ]
     },
     "execution_count": 30,
     "metadata": {},
     "output_type": "execute_result"
    }
   ],
   "source": [
    "serialtest(ciphertext_bit, m=16)"
   ]
  },
  {
   "cell_type": "markdown",
   "metadata": {},
   "source": [
    "<h3>Randomness Test #12: Approximate Entropy Test</h3>\n",
    "Input: bit string, length of each block(m)"
   ]
  },
  {
   "cell_type": "code",
   "execution_count": 31,
   "metadata": {
    "collapsed": true
   },
   "outputs": [],
   "source": [
    "def aproximateentropytest(binin, m=10):\n",
    "    ''' The focus of this test is the frequency of each and every overlapping m-bit pattern. The purpose of the \n",
    "    test is to compare the frequency of overlapping blocks of two consecutive/adjacent lengths (m and m+1) against \n",
    "    the expected result for a random sequence.'''\n",
    "    n = len(binin)\n",
    "    f1a = [(binin + binin[0:m - 1:])[xs:m + xs:] for xs in range(n)]\n",
    "    f1 = [[xs, f1a.count(xs)] for xs in sorted(set(f1a))]\n",
    "    f2a = [(binin + binin[0:m:])[xs:m + 1 + xs:] for xs in range(n)]\n",
    "    f2 = [[xs, f2a.count(xs)] for xs in sorted(set(f2a))]\n",
    "    c1 = [1.0 * f1[xs][1] / n for xs in range(len(f1))]\n",
    "    c2 = [1.0 * f2[xs][1] / n for xs in range(len(f2))]\n",
    "    phi1 = functools.reduce(su, list(map(logo, c1)))\n",
    "    phi2 = functools.reduce(su, list(map(logo, c2)))\n",
    "    apen = phi1 - phi2\n",
    "    chisqr = 2.0 * n * (np.log(2) - apen)\n",
    "    pval = spc.gammaincc(2 ** (m - 1), chisqr / 2.0)\n",
    "    return pval"
   ]
  },
  {
   "cell_type": "code",
   "execution_count": 32,
   "metadata": {
    "collapsed": false,
    "scrolled": true
   },
   "outputs": [
    {
     "data": {
      "text/plain": [
       "1.2699250350691434e-35"
      ]
     },
     "execution_count": 32,
     "metadata": {},
     "output_type": "execute_result"
    }
   ],
   "source": [
    "aproximateentropytest(ciphertext_bit*10, m=10)"
   ]
  },
  {
   "cell_type": "markdown",
   "metadata": {},
   "source": [
    "<h3>Randomness Test #13: Cumulative Sums Test</h3>\n",
    "Input: bit string\n",
    "NOTE: Can be computed either forward or backward depending on mode chosen"
   ]
  },
  {
   "cell_type": "code",
   "execution_count": 33,
   "metadata": {
    "collapsed": true
   },
   "outputs": [],
   "source": [
    "def cumultativesumstest(binin):\n",
    "    ''' The focus of this test is the maximal excursion (from zero) of the random walk defined by the cumulative \n",
    "    sum of adjusted (-1, +1) digits in the sequence. The purpose of the test is to determine whether the \n",
    "    cumulative sum of the partial sequences occurring in the tested sequence is too large or too small relative \n",
    "    to the expected behavior of that cumulative sum for random sequences.  This cumulative sum may be considered \n",
    "    as a random walk. For a random sequence, the random walk should be near zero. For non-random sequences, the \n",
    "    excursions of this random walk away from zero will be too large.'''\n",
    "    n = len(binin)\n",
    "    ss = [int(el) for el in binin]\n",
    "    sc = list(map(sumi, ss))\n",
    "    cs = np.cumsum(sc)\n",
    "    z = max(abs(cs))\n",
    "    ra = 0\n",
    "    start = int(np.floor(0.25 * np.floor(-n / z) + 1))\n",
    "    stop = int(np.floor(0.25 * np.floor(n / z) - 1))\n",
    "    pv1 = []\n",
    "    for k in range(start, stop + 1):\n",
    "        pv1.append(sst.norm.cdf((4 * k + 1) * z / np.sqrt(n)) - sst.norm.cdf((4 * k - 1) * z / np.sqrt(n)))\n",
    "    start = int(np.floor(0.25 * np.floor(-n / z - 3)))\n",
    "    stop = int(np.floor(0.25 * np.floor(n / z) - 1))\n",
    "    pv2 = []\n",
    "    for k in range(start, stop + 1):\n",
    "        pv2.append(sst.norm.cdf((4 * k + 3) * z / np.sqrt(n)) - sst.norm.cdf((4 * k + 1) * z / np.sqrt(n)))\n",
    "    pval = 1\n",
    "    pval -= functools.reduce(su, pv1)\n",
    "    pval += functools.reduce(su, pv2)\n",
    "\n",
    "    return pval\n",
    "\n",
    "def cumultativesumstestreverse(binin):\n",
    "    '''The focus of this test is the maximal excursion (from zero) of the random walk defined by the cumulative sum of adjusted (-1, +1) digits in the sequence. The purpose of the test is to determine whether the cumulative sum of the partial sequences occurring in the tested sequence is too large or too small relative to the expected behavior of that cumulative sum for random sequences.  This cumulative sum may be considered as a random walk. For a random sequence, the random walk should be near zero. For non-random sequences, the excursions of this random walk away from zero will be too large. '''\n",
    "    pval=cumultativesumstest(binin[::-1])\n",
    "    return pval"
   ]
  },
  {
   "cell_type": "code",
   "execution_count": 34,
   "metadata": {
    "collapsed": false,
    "scrolled": true
   },
   "outputs": [
    {
     "data": {
      "text/plain": [
       "0.81876977008479623"
      ]
     },
     "execution_count": 34,
     "metadata": {},
     "output_type": "execute_result"
    }
   ],
   "source": [
    "cumultativesumstest(ciphertext_bit)"
   ]
  },
  {
   "cell_type": "code",
   "execution_count": 35,
   "metadata": {
    "collapsed": false,
    "scrolled": true
   },
   "outputs": [
    {
     "data": {
      "text/plain": [
       "0.94926622884684653"
      ]
     },
     "execution_count": 35,
     "metadata": {},
     "output_type": "execute_result"
    }
   ],
   "source": [
    "cumultativesumstestreverse(ciphertext_bit)"
   ]
  },
  {
   "cell_type": "markdown",
   "metadata": {},
   "source": [
    "<h3>Randomness Test #14: Random Excursions Test</h3>\n",
    "Input: bit string"
   ]
  },
  {
   "cell_type": "code",
   "execution_count": 36,
   "metadata": {
    "collapsed": true
   },
   "outputs": [],
   "source": [
    "def pik(k,x):\n",
    "    if k==0:\n",
    "        out=1-1.0/(2*np.abs(x))\n",
    "    elif k>=5:\n",
    "        out=(1.0/(2*np.abs(x)))*(1-1.0/(2*np.abs(x)))**4\n",
    "    else:\n",
    "        out=(1.0/(4*x*x))*(1-1.0/(2*np.abs(x)))**(k-1)\n",
    "    return out\n",
    "\n",
    "def randomexcursionstest(binin):\n",
    "    ''' The focus of this test is the number of cycles having exactly K visits in a cumulative sum random walk. \n",
    "    The cumulative sum random walk is found if partial sums of the (0,1) sequence are adjusted to (-1, +1). A \n",
    "    random excursion of a random walk consists of a sequence of n steps of unit length taken at random that begin \n",
    "    at and return to the origin. The purpose of this test is to determine if the number of visits to a state \n",
    "    within a random walk exceeds what one would expect for a random sequence.'''\n",
    "    xvals=[-4, -3, -2, -1, 1, 2, 3, 4]\n",
    "    ss = [int(el) for el in binin]\n",
    "    sc = list(map(sumi,ss))\n",
    "    cumsum = np.cumsum(sc)\n",
    "    cumsum = np.append(cumsum,0)\n",
    "    cumsum = np.append(0,cumsum)\n",
    "    posi=np.where(cumsum==0)[0]\n",
    "    cycles=([cumsum[posi[x]:posi[x+1]+1] for x in range(len(posi)-1)])\n",
    "    j=len(cycles)\n",
    "    sct=[]\n",
    "    for ii in cycles:\n",
    "        sct.append(([len(np.where(ii==xx)[0]) for xx in xvals]))\n",
    "    sct=np.transpose(np.clip(sct,0,5))\n",
    "    su=[]\n",
    "    for ii in range(6):\n",
    "        su.append([(xx==ii).sum() for xx in sct])\n",
    "    su=np.transpose(su)\n",
    "    pikt=([([pik(uu,xx) for uu in range(6)]) for xx in xvals])\n",
    "    # chitab=1.0*((su-j*pikt)**2)/(j*pikt)\n",
    "    chitab=np.sum(1.0*(np.array(su)-j*np.array(pikt))**2/(j*np.array(pikt)),axis=1)\n",
    "    pval=([spc.gammaincc(2.5,cs/2.0) for cs in chitab])\n",
    "    return pval"
   ]
  },
  {
   "cell_type": "code",
   "execution_count": 37,
   "metadata": {
    "collapsed": false,
    "scrolled": true
   },
   "outputs": [
    {
     "data": {
      "text/plain": [
       "[0.15477522218716219,\n",
       " 0.069621934337598224,\n",
       " 0.022694414426134263,\n",
       " 0.066322893596628352,\n",
       " 0.2955570040424837,\n",
       " 0.72281309427843565,\n",
       " 0.61834998263633456,\n",
       " 0.93639478079058314]"
      ]
     },
     "execution_count": 37,
     "metadata": {},
     "output_type": "execute_result"
    }
   ],
   "source": [
    "randomexcursionstest(ciphertext_bit)"
   ]
  },
  {
   "cell_type": "markdown",
   "metadata": {},
   "source": [
    "<h3>Randomness Test #15: Random Excursions Variant Test</h3>\n",
    "Input: bit string"
   ]
  },
  {
   "cell_type": "code",
   "execution_count": 38,
   "metadata": {
    "collapsed": true
   },
   "outputs": [],
   "source": [
    "def getfreq(linn, nu):\n",
    "    val = 0\n",
    "    for (x, y) in linn:\n",
    "        if x == nu:\n",
    "            val = y\n",
    "    return val\n",
    "\n",
    "def randomexcursionsvarianttest(binin):\n",
    "    ''' The focus of this test is the number of times that a particular state occurs in a cumulative sum random walk. The purpose of this test is to detect deviations from the expected number of occurrences of various states in the random walk.'''\n",
    "    ss = [int(el) for el in binin]\n",
    "    sc = list(map(sumi, ss))\n",
    "    cs = np.cumsum(sc)\n",
    "    li = []\n",
    "    for xs in sorted(set(cs)):\n",
    "        if np.abs(xs) <= 9:\n",
    "            li.append([xs, len(np.where(cs == xs)[0])])\n",
    "    j = getfreq(li, 0) + 1\n",
    "    pval = []\n",
    "    for xs in range(-9, 9 + 1):\n",
    "        if not xs == 0:\n",
    "            # pval.append([xs, spc.erfc(np.abs(getfreq(li, xs) - j) / np.sqrt(2 * j * (4 * np.abs(xs) - 2)))])\n",
    "            pval.append(spc.erfc(np.abs(getfreq(li, xs) - j) / np.sqrt(2 * j * (4 * np.abs(xs) - 2))))\n",
    "    return pval"
   ]
  },
  {
   "cell_type": "code",
   "execution_count": 39,
   "metadata": {
    "collapsed": false
   },
   "outputs": [
    {
     "data": {
      "text/plain": [
       "[0.73160058895990132,\n",
       " 0.67010315801033271,\n",
       " 0.32679956766896601,\n",
       " 0.52243128496156443,\n",
       " 0.58233861910135132,\n",
       " 0.59298009801742668,\n",
       " 0.83302889371952138,\n",
       " 0.58621368107313998,\n",
       " 0.63735188823393707,\n",
       " 0.098960154019405777,\n",
       " 0.34080324688608477,\n",
       " 0.3990751965482372,\n",
       " 0.42267807417063552,\n",
       " 0.47950012218695348,\n",
       " 0.52243128496156443,\n",
       " 0.55629846127473481,\n",
       " 0.58388242077036523,\n",
       " 0.60690542721795082]"
      ]
     },
     "execution_count": 39,
     "metadata": {},
     "output_type": "execute_result"
    }
   ],
   "source": [
    "randomexcursionsvarianttest(ciphertext_bit)"
   ]
  }
 ],
 "metadata": {
  "kernelspec": {
   "display_name": "Python 2",
   "language": "python",
   "name": "python2"
  },
  "language_info": {
   "codemirror_mode": {
    "name": "ipython",
    "version": 2
   },
   "file_extension": ".py",
   "mimetype": "text/x-python",
   "name": "python",
   "nbconvert_exporter": "python",
   "pygments_lexer": "ipython2",
   "version": "2.7.13"
  }
 },
 "nbformat": 4,
 "nbformat_minor": 2
}
